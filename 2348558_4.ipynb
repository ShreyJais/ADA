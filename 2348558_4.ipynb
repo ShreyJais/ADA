{
  "cells": [
    {
      "cell_type": "markdown",
      "metadata": {
        "id": "view-in-github",
        "colab_type": "text"
      },
      "source": [
        "<a href=\"https://colab.research.google.com/github/ShreyJais/ADA/blob/main/2348558_4.ipynb\" target=\"_parent\"><img src=\"https://colab.research.google.com/assets/colab-badge.svg\" alt=\"Open In Colab\"/></a>"
      ]
    },
    {
      "cell_type": "code",
      "execution_count": 12,
      "metadata": {
        "colab": {
          "base_uri": "https://localhost:8080/"
        },
        "id": "snaHsnGF8Dxk",
        "outputId": "b536d208-4ff3-4718-da48-ad3696c3ec48"
      },
      "outputs": [
        {
          "output_type": "stream",
          "name": "stdout",
          "text": [
            "['alt.atheism',\n",
            " 'comp.graphics',\n",
            " 'comp.os.ms-windows.misc',\n",
            " 'comp.sys.ibm.pc.hardware',\n",
            " 'comp.sys.mac.hardware',\n",
            " 'comp.windows.x',\n",
            " 'misc.forsale',\n",
            " 'rec.autos',\n",
            " 'rec.motorcycles',\n",
            " 'rec.sport.baseball',\n",
            " 'rec.sport.hockey',\n",
            " 'sci.crypt',\n",
            " 'sci.electronics',\n",
            " 'sci.med',\n",
            " 'sci.space',\n",
            " 'soc.religion.christian',\n",
            " 'talk.politics.guns',\n",
            " 'talk.politics.mideast',\n",
            " 'talk.politics.misc',\n",
            " 'talk.religion.misc']\n"
          ]
        }
      ],
      "source": [
        "from sklearn.datasets import fetch_20newsgroups\n",
        "newsgroups_train = fetch_20newsgroups(subset='train')\n",
        "newsgroups_test = fetch_20newsgroups(subset='test')\n",
        "from pprint import pprint\n",
        "(pprint(list(newsgroups_train.target_names))) #Catagories"
      ]
    },
    {
      "cell_type": "code",
      "execution_count": 13,
      "metadata": {
        "colab": {
          "base_uri": "https://localhost:8080/"
        },
        "id": "pG_sBbTD_Gbn",
        "outputId": "196619c0-427b-4619-c99d-bcc2ae8734b4"
      },
      "outputs": [
        {
          "output_type": "stream",
          "name": "stdout",
          "text": [
            "number of Catagories:\t 20\n",
            "number of train data:\t 11314\n",
            "number of test data:\t 7532\n"
          ]
        }
      ],
      "source": [
        "print('number of Catagories:\\t', len(newsgroups_train.target_names))\n",
        "print('number of train data:\\t', len(newsgroups_train.data))\n",
        "print('number of test data:\\t', len(newsgroups_test.data))"
      ]
    },
    {
      "cell_type": "markdown",
      "metadata": {
        "id": "RwrGl4ADDN6f"
      },
      "source": [
        "#preprocessing\n"
      ]
    },
    {
      "cell_type": "code",
      "execution_count": 14,
      "metadata": {
        "colab": {
          "base_uri": "https://localhost:8080/"
        },
        "id": "l90Iib60Df64",
        "outputId": "1da25177-3473-48bb-c3a1-b041d5886363"
      },
      "outputs": [
        {
          "output_type": "stream",
          "name": "stderr",
          "text": [
            "[nltk_data] Downloading package punkt to /root/nltk_data...\n",
            "[nltk_data]   Package punkt is already up-to-date!\n",
            "[nltk_data] Downloading package wordnet to /root/nltk_data...\n",
            "[nltk_data]   Package wordnet is already up-to-date!\n",
            "[nltk_data] Downloading package stopwords to /root/nltk_data...\n",
            "[nltk_data]   Package stopwords is already up-to-date!\n"
          ]
        }
      ],
      "source": [
        "import nltk\n",
        "nltk.download('punkt')\n",
        "nltk.download('wordnet')\n",
        "nltk.download('stopwords')\n",
        "from nltk import word_tokenize\n",
        "from nltk.stem import WordNetLemmatizer\n",
        "from nltk.corpus import stopwords\n",
        "import re\n",
        "text = ''\n",
        "stop_words = set(stopwords.words('english'))\n",
        "lemmatizer = WordNetLemmatizer()\n",
        "\n",
        "def preprocess(text):\n",
        "  # Tokenize the text and lowercasing\n",
        "  tokens = word_tokenize(text.lower())\n",
        "  # Remove stop words\n",
        "  tokens = [token for token in tokens if token not in stop_words]\n",
        "  # Remove non-alphanumeric characters(Puncuation and Special Characters)\n",
        "  tokens = [token.lower() for token in tokens if token.isalnum()]\n",
        "  # Lemmatize the tokens\n",
        "  tokens = [lemmatizer.lemmatize(token) for token in tokens]\n",
        "  text = ' '.join(tokens)\n",
        "  return text"
      ]
    },
    {
      "cell_type": "code",
      "execution_count": 15,
      "metadata": {
        "colab": {
          "base_uri": "https://localhost:8080/",
          "height": 53
        },
        "id": "n4dvgFokDuDh",
        "outputId": "3364fae2-49d3-4628-b16f-b8bfb80ce7f0"
      },
      "outputs": [
        {
          "output_type": "execute_result",
          "data": {
            "text/plain": [
              "'hey ca believe already see john new blog post check http also email mentioned something stemming lemmatization stuff btw attending ai conference next month excited ai let catch soon cheer john'"
            ],
            "application/vnd.google.colaboratory.intrinsic+json": {
              "type": "string"
            }
          },
          "metadata": {},
          "execution_count": 15
        }
      ],
      "source": [
        "preprocess('''\n",
        "Hey there! 😃 I can't believe it's already 2024. Did you see John's new blog post? Check it out at https://example.com/blog! Also, email me at john.doe@example.com. He mentioned something about \"stemming\" and \"lemmatization\"—interesting stuff. BTW, I'll be attending the AI conference in N.Y.C. next month!! #Excited #AI 😊 Let's catch up soon. Cheers, John\n",
        "''')"
      ]
    },
    {
      "cell_type": "code",
      "execution_count": 16,
      "metadata": {
        "colab": {
          "base_uri": "https://localhost:8080/",
          "height": 160
        },
        "id": "0MO0oFEMIiqM",
        "outputId": "05f0cb21-4409-4dd2-f3f0-70a4c2344100"
      },
      "outputs": [
        {
          "output_type": "execute_result",
          "data": {
            "text/plain": [
              "\"From: lerxst@wam.umd.edu (where's my thing)\\nSubject: WHAT car is this!?\\nNntp-Posting-Host: rac3.wam.umd.edu\\nOrganization: University of Maryland, College Park\\nLines: 15\\n\\n I was wondering if anyone out there could enlighten me on this car I saw\\nthe other day. It was a 2-door sports car, looked to be from the late 60s/\\nearly 70s. It was called a Bricklin. The doors were really small. In addition,\\nthe front bumper was separate from the rest of the body. This is \\nall I know. If anyone can tellme a model name, engine specs, years\\nof production, where this car is made, history, or whatever info you\\nhave on this funky looking car, please e-mail.\\n\\nThanks,\\n- IL\\n   ---- brought to you by your neighborhood Lerxst ----\\n\\n\\n\\n\\n\""
            ],
            "application/vnd.google.colaboratory.intrinsic+json": {
              "type": "string"
            }
          },
          "metadata": {},
          "execution_count": 16
        }
      ],
      "source": [
        "newsgroups_train.data[0]"
      ]
    },
    {
      "cell_type": "code",
      "execution_count": 17,
      "metadata": {
        "id": "h9lduJn5G1Ch"
      },
      "outputs": [],
      "source": [
        "newsgroups_train.data = list(map(preprocess, newsgroups_train.data)) #without for loop\n",
        "#newsgroups_train.data = [preprocess(text) for text in newsgroups_train.data]"
      ]
    },
    {
      "cell_type": "code",
      "execution_count": 18,
      "metadata": {
        "colab": {
          "base_uri": "https://localhost:8080/",
          "height": 89
        },
        "id": "9BylRPc0G7Kx",
        "outputId": "f89e5fa5-759a-4759-d13d-8059b9883e94"
      },
      "outputs": [
        {
          "output_type": "execute_result",
          "data": {
            "text/plain": [
              "'lerxst thing subject car organization university maryland college park line 15 wondering anyone could enlighten car saw day sport car looked late early 70 called bricklin door really small addition front bumper separate rest body know anyone tellme model name engine spec year production car made history whatever info funky looking car please thanks il brought neighborhood lerxst'"
            ],
            "application/vnd.google.colaboratory.intrinsic+json": {
              "type": "string"
            }
          },
          "metadata": {},
          "execution_count": 18
        }
      ],
      "source": [
        "newsgroups_train.data[0]"
      ]
    },
    {
      "cell_type": "markdown",
      "metadata": {
        "id": "JG-mV_kTIl4_"
      },
      "source": [
        "Feature Extraction"
      ]
    },
    {
      "cell_type": "code",
      "execution_count": 19,
      "metadata": {
        "colab": {
          "base_uri": "https://localhost:8080/"
        },
        "id": "_pwNpjj7JKEH",
        "outputId": "c19a93bf-1308-4300-dde6-09db087874fe"
      },
      "outputs": [
        {
          "output_type": "stream",
          "name": "stdout",
          "text": [
            "X_train shape: (11314, 89747)\n",
            "X_test shape: (7532, 89747)\n"
          ]
        }
      ],
      "source": [
        "from sklearn.feature_extraction.text import TfidfVectorizer\n",
        "\n",
        "vectorizer = TfidfVectorizer()\n",
        "\n",
        "X_train = vectorizer.fit_transform(newsgroups_train.data)\n",
        "X_test = vectorizer.transform(newsgroups_test.data)\n",
        "\n",
        "print('X_train shape:', X_train.shape)\n",
        "print('X_test shape:', X_test.shape)"
      ]
    },
    {
      "cell_type": "code",
      "execution_count": 20,
      "metadata": {
        "id": "kAKLJIXrLCOX"
      },
      "outputs": [],
      "source": [
        "from sklearn.naive_bayes import MultinomialNB\n",
        "from sklearn.linear_model import LogisticRegression\n",
        "from sklearn.svm import SVC\n",
        "from sklearn.ensemble import RandomForestClassifier\n",
        "from sklearn.tree import DecisionTreeClassifier\n",
        "from sklearn.metrics import accuracy_score, classification_report"
      ]
    },
    {
      "cell_type": "code",
      "execution_count": 21,
      "metadata": {
        "id": "e6AD0yANLChL"
      },
      "outputs": [],
      "source": [
        "def train_and_evaluate(model):\n",
        "  model.fit(X_train, newsgroups_train.target)\n",
        "  y_pred = model.predict(X_test)\n",
        "  accuracy = accuracy_score(newsgroups_test.target, y_pred)\n",
        "  print(model)\n",
        "  print('Accuracy:', accuracy)\n",
        "  print(classification_report(newsgroups_test.target, y_pred))"
      ]
    },
    {
      "cell_type": "code",
      "execution_count": 22,
      "metadata": {
        "colab": {
          "base_uri": "https://localhost:8080/"
        },
        "id": "bx6yolMQLiGk",
        "outputId": "8f357480-d8fc-4eef-bdff-384d0d4237fe"
      },
      "outputs": [
        {
          "output_type": "stream",
          "name": "stdout",
          "text": [
            "MultinomialNB()\n",
            "Accuracy: 0.789166224110462\n",
            "              precision    recall  f1-score   support\n",
            "\n",
            "           0       0.82      0.59      0.69       319\n",
            "           1       0.77      0.68      0.72       389\n",
            "           2       0.77      0.57      0.65       394\n",
            "           3       0.55      0.87      0.67       392\n",
            "           4       0.85      0.76      0.81       385\n",
            "           5       0.83      0.77      0.80       395\n",
            "           6       0.87      0.77      0.82       390\n",
            "           7       0.87      0.91      0.89       396\n",
            "           8       0.94      0.94      0.94       398\n",
            "           9       0.93      0.91      0.92       397\n",
            "          10       0.90      0.95      0.93       399\n",
            "          11       0.68      0.96      0.80       396\n",
            "          12       0.83      0.66      0.74       393\n",
            "          13       0.94      0.77      0.85       396\n",
            "          14       0.86      0.93      0.89       394\n",
            "          15       0.55      0.95      0.69       398\n",
            "          16       0.67      0.93      0.78       364\n",
            "          17       0.94      0.92      0.93       376\n",
            "          18       0.95      0.48      0.64       310\n",
            "          19       0.92      0.10      0.17       251\n",
            "\n",
            "    accuracy                           0.79      7532\n",
            "   macro avg       0.82      0.77      0.77      7532\n",
            "weighted avg       0.82      0.79      0.78      7532\n",
            "\n",
            "LogisticRegression()\n",
            "Accuracy: 0.7989909718534254\n",
            "              precision    recall  f1-score   support\n",
            "\n",
            "           0       0.80      0.65      0.72       319\n",
            "           1       0.65      0.74      0.69       389\n",
            "           2       0.75      0.52      0.61       394\n",
            "           3       0.62      0.81      0.70       392\n",
            "           4       0.79      0.77      0.78       385\n",
            "           5       0.74      0.76      0.75       395\n",
            "           6       0.67      0.88      0.76       390\n",
            "           7       0.90      0.86      0.88       396\n",
            "           8       0.94      0.94      0.94       398\n",
            "           9       0.91      0.92      0.91       397\n",
            "          10       0.96      0.90      0.93       399\n",
            "          11       0.95      0.85      0.90       396\n",
            "          12       0.67      0.80      0.73       393\n",
            "          13       0.85      0.85      0.85       396\n",
            "          14       0.88      0.93      0.90       394\n",
            "          15       0.77      0.90      0.83       398\n",
            "          16       0.73      0.85      0.79       364\n",
            "          17       0.97      0.83      0.90       376\n",
            "          18       0.82      0.57      0.67       310\n",
            "          19       0.79      0.47      0.59       251\n",
            "\n",
            "    accuracy                           0.80      7532\n",
            "   macro avg       0.81      0.79      0.79      7532\n",
            "weighted avg       0.81      0.80      0.80      7532\n",
            "\n",
            "SVC()\n",
            "Accuracy: 0.7555762081784386\n",
            "              precision    recall  f1-score   support\n",
            "\n",
            "           0       0.88      0.55      0.68       319\n",
            "           1       0.55      0.77      0.64       389\n",
            "           2       0.83      0.41      0.55       394\n",
            "           3       0.60      0.82      0.69       392\n",
            "           4       0.83      0.76      0.79       385\n",
            "           5       0.77      0.73      0.75       395\n",
            "           6       0.66      0.89      0.76       390\n",
            "           7       0.93      0.82      0.87       396\n",
            "           8       0.98      0.91      0.94       398\n",
            "           9       0.92      0.86      0.89       397\n",
            "          10       0.98      0.80      0.88       399\n",
            "          11       0.97      0.77      0.86       396\n",
            "          12       0.39      0.86      0.54       393\n",
            "          13       0.80      0.81      0.80       396\n",
            "          14       0.92      0.87      0.89       394\n",
            "          15       0.72      0.86      0.78       398\n",
            "          16       0.77      0.78      0.77       364\n",
            "          17       0.98      0.68      0.81       376\n",
            "          18       0.81      0.54      0.65       310\n",
            "          19       0.80      0.43      0.56       251\n",
            "\n",
            "    accuracy                           0.76      7532\n",
            "   macro avg       0.81      0.75      0.76      7532\n",
            "weighted avg       0.80      0.76      0.76      7532\n",
            "\n",
            "RandomForestClassifier()\n",
            "Accuracy: 0.7311471056824217\n",
            "              precision    recall  f1-score   support\n",
            "\n",
            "           0       0.71      0.58      0.64       319\n",
            "           1       0.59      0.60      0.60       389\n",
            "           2       0.45      0.55      0.50       394\n",
            "           3       0.58      0.69      0.63       392\n",
            "           4       0.69      0.77      0.73       385\n",
            "           5       0.68      0.70      0.69       395\n",
            "           6       0.75      0.89      0.81       390\n",
            "           7       0.87      0.76      0.81       396\n",
            "           8       0.90      0.90      0.90       398\n",
            "           9       0.82      0.85      0.84       397\n",
            "          10       0.85      0.88      0.87       399\n",
            "          11       0.88      0.90      0.89       396\n",
            "          12       0.69      0.48      0.57       393\n",
            "          13       0.78      0.69      0.73       396\n",
            "          14       0.79      0.88      0.83       394\n",
            "          15       0.64      0.89      0.75       398\n",
            "          16       0.67      0.82      0.73       364\n",
            "          17       0.96      0.78      0.87       376\n",
            "          18       0.75      0.51      0.60       310\n",
            "          19       0.75      0.25      0.37       251\n",
            "\n",
            "    accuracy                           0.73      7532\n",
            "   macro avg       0.74      0.72      0.72      7532\n",
            "weighted avg       0.74      0.73      0.73      7532\n",
            "\n",
            "DecisionTreeClassifier()\n",
            "Accuracy: 0.5103558151885289\n",
            "              precision    recall  f1-score   support\n",
            "\n",
            "           0       0.50      0.38      0.43       319\n",
            "           1       0.41      0.34      0.37       389\n",
            "           2       0.27      0.16      0.20       394\n",
            "           3       0.34      0.46      0.39       392\n",
            "           4       0.45      0.55      0.50       385\n",
            "           5       0.51      0.50      0.50       395\n",
            "           6       0.65      0.68      0.66       390\n",
            "           7       0.61      0.52      0.56       396\n",
            "           8       0.82      0.73      0.77       398\n",
            "           9       0.53      0.59      0.56       397\n",
            "          10       0.59      0.65      0.62       399\n",
            "          11       0.81      0.70      0.75       396\n",
            "          12       0.32      0.34      0.33       393\n",
            "          13       0.42      0.50      0.46       396\n",
            "          14       0.66      0.55      0.60       394\n",
            "          15       0.59      0.56      0.57       398\n",
            "          16       0.56      0.56      0.56       364\n",
            "          17       0.83      0.62      0.71       376\n",
            "          18       0.26      0.44      0.33       310\n",
            "          19       0.25      0.28      0.26       251\n",
            "\n",
            "    accuracy                           0.51      7532\n",
            "   macro avg       0.52      0.50      0.51      7532\n",
            "weighted avg       0.53      0.51      0.51      7532\n",
            "\n"
          ]
        }
      ],
      "source": [
        "models = [MultinomialNB(),LogisticRegression(),SVC(),RandomForestClassifier(),DecisionTreeClassifier()]\n",
        "for model in models:\n",
        "  train_and_evaluate(model)"
      ]
    },
    {
      "cell_type": "code",
      "execution_count": 23,
      "metadata": {
        "colab": {
          "base_uri": "https://localhost:8080/"
        },
        "id": "imqHpYINUgVN",
        "outputId": "0aeac783-bba3-451b-93f5-7cb9a8e5deb8"
      },
      "outputs": [
        {
          "output_type": "stream",
          "name": "stdout",
          "text": [
            "X_train shape: (11314, 89747)\n",
            "X_test shape: (7532, 89747)\n"
          ]
        }
      ],
      "source": [
        "from sklearn.feature_extraction.text import CountVectorizer\n",
        "\n",
        "vectorizer = CountVectorizer()\n",
        "\n",
        "X_train = vectorizer.fit_transform(newsgroups_train.data)\n",
        "\n",
        "X_test = vectorizer.transform(newsgroups_test.data)\n",
        "\n",
        "print('X_train shape:', X_train.shape)\n",
        "print('X_test shape:', X_test.shape)"
      ]
    },
    {
      "cell_type": "code",
      "execution_count": 24,
      "metadata": {
        "colab": {
          "base_uri": "https://localhost:8080/"
        },
        "id": "F6ha3hRGUzAV",
        "outputId": "37fed39d-6ed1-47e8-d662-2e999765445b"
      },
      "outputs": [
        {
          "output_type": "stream",
          "name": "stdout",
          "text": [
            "MultinomialNB()\n",
            "Accuracy: 0.7903611258629846\n",
            "              precision    recall  f1-score   support\n",
            "\n",
            "           0       0.73      0.76      0.75       319\n",
            "           1       0.62      0.80      0.70       389\n",
            "           2       0.81      0.12      0.21       394\n",
            "           3       0.51      0.85      0.63       392\n",
            "           4       0.82      0.77      0.79       385\n",
            "           5       0.73      0.80      0.76       395\n",
            "           6       0.87      0.71      0.78       390\n",
            "           7       0.83      0.90      0.86       396\n",
            "           8       0.92      0.94      0.93       398\n",
            "           9       0.95      0.88      0.91       397\n",
            "          10       0.94      0.95      0.95       399\n",
            "          11       0.79      0.95      0.86       396\n",
            "          12       0.81      0.69      0.75       393\n",
            "          13       0.91      0.86      0.88       396\n",
            "          14       0.87      0.91      0.89       394\n",
            "          15       0.78      0.90      0.83       398\n",
            "          16       0.73      0.91      0.81       364\n",
            "          17       0.95      0.89      0.92       376\n",
            "          18       0.73      0.58      0.65       310\n",
            "          19       0.81      0.45      0.58       251\n",
            "\n",
            "    accuracy                           0.79      7532\n",
            "   macro avg       0.81      0.78      0.77      7532\n",
            "weighted avg       0.81      0.79      0.78      7532\n",
            "\n"
          ]
        },
        {
          "output_type": "stream",
          "name": "stderr",
          "text": [
            "/usr/local/lib/python3.10/dist-packages/sklearn/linear_model/_logistic.py:458: ConvergenceWarning: lbfgs failed to converge (status=1):\n",
            "STOP: TOTAL NO. of ITERATIONS REACHED LIMIT.\n",
            "\n",
            "Increase the number of iterations (max_iter) or scale the data as shown in:\n",
            "    https://scikit-learn.org/stable/modules/preprocessing.html\n",
            "Please also refer to the documentation for alternative solver options:\n",
            "    https://scikit-learn.org/stable/modules/linear_model.html#logistic-regression\n",
            "  n_iter_i = _check_optimize_result(\n"
          ]
        },
        {
          "output_type": "stream",
          "name": "stdout",
          "text": [
            "LogisticRegression()\n",
            "Accuracy: 0.7598247477429634\n",
            "              precision    recall  f1-score   support\n",
            "\n",
            "           0       0.69      0.68      0.69       319\n",
            "           1       0.62      0.68      0.65       389\n",
            "           2       0.62      0.44      0.52       394\n",
            "           3       0.55      0.76      0.64       392\n",
            "           4       0.72      0.77      0.75       385\n",
            "           5       0.79      0.68      0.73       395\n",
            "           6       0.72      0.87      0.79       390\n",
            "           7       0.83      0.83      0.83       396\n",
            "           8       0.90      0.92      0.91       398\n",
            "           9       0.84      0.84      0.84       397\n",
            "          10       0.94      0.87      0.90       399\n",
            "          11       0.87      0.88      0.87       396\n",
            "          12       0.76      0.59      0.67       393\n",
            "          13       0.85      0.78      0.82       396\n",
            "          14       0.83      0.90      0.86       394\n",
            "          15       0.74      0.85      0.79       398\n",
            "          16       0.66      0.84      0.74       364\n",
            "          17       0.93      0.79      0.85       376\n",
            "          18       0.74      0.48      0.58       310\n",
            "          19       0.63      0.57      0.60       251\n",
            "\n",
            "    accuracy                           0.76      7532\n",
            "   macro avg       0.76      0.75      0.75      7532\n",
            "weighted avg       0.77      0.76      0.76      7532\n",
            "\n",
            "SVC()\n",
            "Accuracy: 0.6404673393520978\n",
            "              precision    recall  f1-score   support\n",
            "\n",
            "           0       0.71      0.46      0.56       319\n",
            "           1       0.27      0.75      0.40       389\n",
            "           2       0.70      0.22      0.34       394\n",
            "           3       0.58      0.65      0.61       392\n",
            "           4       0.82      0.65      0.73       385\n",
            "           5       0.75      0.57      0.65       395\n",
            "           6       0.52      0.86      0.65       390\n",
            "           7       0.87      0.65      0.75       396\n",
            "           8       0.79      0.86      0.82       398\n",
            "           9       0.69      0.76      0.72       397\n",
            "          10       0.95      0.67      0.78       399\n",
            "          11       0.95      0.70      0.81       396\n",
            "          12       0.56      0.60      0.58       393\n",
            "          13       0.67      0.56      0.61       396\n",
            "          14       0.80      0.82      0.81       394\n",
            "          15       0.71      0.69      0.70       398\n",
            "          16       0.71      0.70      0.71       364\n",
            "          17       0.55      0.72      0.62       376\n",
            "          18       0.61      0.44      0.51       310\n",
            "          19       0.74      0.28      0.41       251\n",
            "\n",
            "    accuracy                           0.64      7532\n",
            "   macro avg       0.70      0.63      0.64      7532\n",
            "weighted avg       0.70      0.64      0.64      7532\n",
            "\n",
            "RandomForestClassifier()\n",
            "Accuracy: 0.7328730748805098\n",
            "              precision    recall  f1-score   support\n",
            "\n",
            "           0       0.69      0.61      0.65       319\n",
            "           1       0.54      0.63      0.58       389\n",
            "           2       0.43      0.54      0.48       394\n",
            "           3       0.53      0.72      0.61       392\n",
            "           4       0.71      0.73      0.72       385\n",
            "           5       0.70      0.65      0.68       395\n",
            "           6       0.78      0.87      0.82       390\n",
            "           7       0.81      0.79      0.80       396\n",
            "           8       0.89      0.90      0.89       398\n",
            "           9       0.81      0.89      0.85       397\n",
            "          10       0.84      0.88      0.86       399\n",
            "          11       0.91      0.91      0.91       396\n",
            "          12       0.74      0.45      0.56       393\n",
            "          13       0.88      0.65      0.75       396\n",
            "          14       0.84      0.90      0.87       394\n",
            "          15       0.66      0.90      0.76       398\n",
            "          16       0.68      0.85      0.76       364\n",
            "          17       0.96      0.74      0.84       376\n",
            "          18       0.84      0.49      0.62       310\n",
            "          19       0.78      0.35      0.48       251\n",
            "\n",
            "    accuracy                           0.73      7532\n",
            "   macro avg       0.75      0.72      0.72      7532\n",
            "weighted avg       0.75      0.73      0.73      7532\n",
            "\n",
            "DecisionTreeClassifier()\n",
            "Accuracy: 0.5249601699415826\n",
            "              precision    recall  f1-score   support\n",
            "\n",
            "           0       0.50      0.39      0.44       319\n",
            "           1       0.33      0.31      0.32       389\n",
            "           2       0.30      0.18      0.23       394\n",
            "           3       0.32      0.46      0.38       392\n",
            "           4       0.48      0.56      0.52       385\n",
            "           5       0.55      0.47      0.51       395\n",
            "           6       0.67      0.68      0.67       390\n",
            "           7       0.55      0.54      0.55       396\n",
            "           8       0.71      0.74      0.73       398\n",
            "           9       0.48      0.63      0.55       397\n",
            "          10       0.72      0.69      0.70       399\n",
            "          11       0.77      0.68      0.72       396\n",
            "          12       0.33      0.34      0.34       393\n",
            "          13       0.52      0.49      0.50       396\n",
            "          14       0.67      0.64      0.66       394\n",
            "          15       0.53      0.65      0.58       398\n",
            "          16       0.56      0.64      0.60       364\n",
            "          17       0.76      0.61      0.67       376\n",
            "          18       0.45      0.35      0.40       310\n",
            "          19       0.26      0.27      0.27       251\n",
            "\n",
            "    accuracy                           0.52      7532\n",
            "   macro avg       0.52      0.52      0.52      7532\n",
            "weighted avg       0.53      0.52      0.52      7532\n",
            "\n"
          ]
        }
      ],
      "source": [
        "models = [MultinomialNB(),LogisticRegression(),SVC(),RandomForestClassifier(),DecisionTreeClassifier()]\n",
        "for model in models:\n",
        "  train_and_evaluate(model)"
      ]
    },
    {
      "cell_type": "code",
      "execution_count": 30,
      "metadata": {
        "id": "1CISZ-67M3Rv"
      },
      "outputs": [],
      "source": [
        "from sklearn.cluster import KMeans\n",
        "from sklearn.metrics import silhouette_score\n",
        "wcss=[] #Within-Cluster Sum of Square. It is a measure of how well the data points are clustered around the centroids.\n",
        "silhouette_avg = []\n",
        "for i in range(15, 25):\n",
        "    kmeans = KMeans(n_clusters=i, init='k-means++', n_init='auto')\n",
        "    kmeans.fit(X_train)\n",
        "    silhouette_avg.append(silhouette_score(X_train,kmeans.labels_))\n",
        "    wcss.append(kmeans.inertia_)"
      ]
    },
    {
      "cell_type": "code",
      "source": [
        "import plotly.express as px"
      ],
      "metadata": {
        "id": "YrHQLSBu6Hmk"
      },
      "execution_count": 27,
      "outputs": []
    },
    {
      "cell_type": "code",
      "execution_count": 31,
      "metadata": {
        "id": "BecCjKcrpiQT",
        "colab": {
          "base_uri": "https://localhost:8080/",
          "height": 542
        },
        "outputId": "e48fd26b-fea9-4526-fb7d-fe058336e7fc"
      },
      "outputs": [
        {
          "output_type": "display_data",
          "data": {
            "text/html": [
              "<html>\n",
              "<head><meta charset=\"utf-8\" /></head>\n",
              "<body>\n",
              "    <div>            <script src=\"https://cdnjs.cloudflare.com/ajax/libs/mathjax/2.7.5/MathJax.js?config=TeX-AMS-MML_SVG\"></script><script type=\"text/javascript\">if (window.MathJax && window.MathJax.Hub && window.MathJax.Hub.Config) {window.MathJax.Hub.Config({SVG: {font: \"STIX-Web\"}});}</script>                <script type=\"text/javascript\">window.PlotlyConfig = {MathJaxConfig: 'local'};</script>\n",
              "        <script charset=\"utf-8\" src=\"https://cdn.plot.ly/plotly-2.24.1.min.js\"></script>                <div id=\"adcc5cde-f52c-40fa-bf0e-ca82b883f093\" class=\"plotly-graph-div\" style=\"height:525px; width:100%;\"></div>            <script type=\"text/javascript\">                                    window.PLOTLYENV=window.PLOTLYENV || {};                                    if (document.getElementById(\"adcc5cde-f52c-40fa-bf0e-ca82b883f093\")) {                    Plotly.newPlot(                        \"adcc5cde-f52c-40fa-bf0e-ca82b883f093\",                        [{\"hovertemplate\":\"x=%{x}\\u003cbr\\u003ey=%{y}\\u003cextra\\u003e\\u003c\\u002fextra\\u003e\",\"legendgroup\":\"\",\"line\":{\"color\":\"#636efa\",\"dash\":\"solid\"},\"marker\":{\"symbol\":\"circle\"},\"mode\":\"markers+lines\",\"name\":\"\",\"orientation\":\"v\",\"showlegend\":false,\"x\":[15,16,17,18,19,20,21,22,23,24],\"xaxis\":\"x\",\"y\":[5325152.611323007,5174774.203281216,5054552.272092623,5091000.509596302,4950162.452174999,4789826.00870298,4755591.647223707,4703850.69286184,4733363.267518168,4688107.179263156],\"yaxis\":\"y\",\"type\":\"scatter\"}],                        {\"template\":{\"data\":{\"histogram2dcontour\":[{\"type\":\"histogram2dcontour\",\"colorbar\":{\"outlinewidth\":0,\"ticks\":\"\"},\"colorscale\":[[0.0,\"#0d0887\"],[0.1111111111111111,\"#46039f\"],[0.2222222222222222,\"#7201a8\"],[0.3333333333333333,\"#9c179e\"],[0.4444444444444444,\"#bd3786\"],[0.5555555555555556,\"#d8576b\"],[0.6666666666666666,\"#ed7953\"],[0.7777777777777778,\"#fb9f3a\"],[0.8888888888888888,\"#fdca26\"],[1.0,\"#f0f921\"]]}],\"choropleth\":[{\"type\":\"choropleth\",\"colorbar\":{\"outlinewidth\":0,\"ticks\":\"\"}}],\"histogram2d\":[{\"type\":\"histogram2d\",\"colorbar\":{\"outlinewidth\":0,\"ticks\":\"\"},\"colorscale\":[[0.0,\"#0d0887\"],[0.1111111111111111,\"#46039f\"],[0.2222222222222222,\"#7201a8\"],[0.3333333333333333,\"#9c179e\"],[0.4444444444444444,\"#bd3786\"],[0.5555555555555556,\"#d8576b\"],[0.6666666666666666,\"#ed7953\"],[0.7777777777777778,\"#fb9f3a\"],[0.8888888888888888,\"#fdca26\"],[1.0,\"#f0f921\"]]}],\"heatmap\":[{\"type\":\"heatmap\",\"colorbar\":{\"outlinewidth\":0,\"ticks\":\"\"},\"colorscale\":[[0.0,\"#0d0887\"],[0.1111111111111111,\"#46039f\"],[0.2222222222222222,\"#7201a8\"],[0.3333333333333333,\"#9c179e\"],[0.4444444444444444,\"#bd3786\"],[0.5555555555555556,\"#d8576b\"],[0.6666666666666666,\"#ed7953\"],[0.7777777777777778,\"#fb9f3a\"],[0.8888888888888888,\"#fdca26\"],[1.0,\"#f0f921\"]]}],\"heatmapgl\":[{\"type\":\"heatmapgl\",\"colorbar\":{\"outlinewidth\":0,\"ticks\":\"\"},\"colorscale\":[[0.0,\"#0d0887\"],[0.1111111111111111,\"#46039f\"],[0.2222222222222222,\"#7201a8\"],[0.3333333333333333,\"#9c179e\"],[0.4444444444444444,\"#bd3786\"],[0.5555555555555556,\"#d8576b\"],[0.6666666666666666,\"#ed7953\"],[0.7777777777777778,\"#fb9f3a\"],[0.8888888888888888,\"#fdca26\"],[1.0,\"#f0f921\"]]}],\"contourcarpet\":[{\"type\":\"contourcarpet\",\"colorbar\":{\"outlinewidth\":0,\"ticks\":\"\"}}],\"contour\":[{\"type\":\"contour\",\"colorbar\":{\"outlinewidth\":0,\"ticks\":\"\"},\"colorscale\":[[0.0,\"#0d0887\"],[0.1111111111111111,\"#46039f\"],[0.2222222222222222,\"#7201a8\"],[0.3333333333333333,\"#9c179e\"],[0.4444444444444444,\"#bd3786\"],[0.5555555555555556,\"#d8576b\"],[0.6666666666666666,\"#ed7953\"],[0.7777777777777778,\"#fb9f3a\"],[0.8888888888888888,\"#fdca26\"],[1.0,\"#f0f921\"]]}],\"surface\":[{\"type\":\"surface\",\"colorbar\":{\"outlinewidth\":0,\"ticks\":\"\"},\"colorscale\":[[0.0,\"#0d0887\"],[0.1111111111111111,\"#46039f\"],[0.2222222222222222,\"#7201a8\"],[0.3333333333333333,\"#9c179e\"],[0.4444444444444444,\"#bd3786\"],[0.5555555555555556,\"#d8576b\"],[0.6666666666666666,\"#ed7953\"],[0.7777777777777778,\"#fb9f3a\"],[0.8888888888888888,\"#fdca26\"],[1.0,\"#f0f921\"]]}],\"mesh3d\":[{\"type\":\"mesh3d\",\"colorbar\":{\"outlinewidth\":0,\"ticks\":\"\"}}],\"scatter\":[{\"fillpattern\":{\"fillmode\":\"overlay\",\"size\":10,\"solidity\":0.2},\"type\":\"scatter\"}],\"parcoords\":[{\"type\":\"parcoords\",\"line\":{\"colorbar\":{\"outlinewidth\":0,\"ticks\":\"\"}}}],\"scatterpolargl\":[{\"type\":\"scatterpolargl\",\"marker\":{\"colorbar\":{\"outlinewidth\":0,\"ticks\":\"\"}}}],\"bar\":[{\"error_x\":{\"color\":\"#2a3f5f\"},\"error_y\":{\"color\":\"#2a3f5f\"},\"marker\":{\"line\":{\"color\":\"#E5ECF6\",\"width\":0.5},\"pattern\":{\"fillmode\":\"overlay\",\"size\":10,\"solidity\":0.2}},\"type\":\"bar\"}],\"scattergeo\":[{\"type\":\"scattergeo\",\"marker\":{\"colorbar\":{\"outlinewidth\":0,\"ticks\":\"\"}}}],\"scatterpolar\":[{\"type\":\"scatterpolar\",\"marker\":{\"colorbar\":{\"outlinewidth\":0,\"ticks\":\"\"}}}],\"histogram\":[{\"marker\":{\"pattern\":{\"fillmode\":\"overlay\",\"size\":10,\"solidity\":0.2}},\"type\":\"histogram\"}],\"scattergl\":[{\"type\":\"scattergl\",\"marker\":{\"colorbar\":{\"outlinewidth\":0,\"ticks\":\"\"}}}],\"scatter3d\":[{\"type\":\"scatter3d\",\"line\":{\"colorbar\":{\"outlinewidth\":0,\"ticks\":\"\"}},\"marker\":{\"colorbar\":{\"outlinewidth\":0,\"ticks\":\"\"}}}],\"scattermapbox\":[{\"type\":\"scattermapbox\",\"marker\":{\"colorbar\":{\"outlinewidth\":0,\"ticks\":\"\"}}}],\"scatterternary\":[{\"type\":\"scatterternary\",\"marker\":{\"colorbar\":{\"outlinewidth\":0,\"ticks\":\"\"}}}],\"scattercarpet\":[{\"type\":\"scattercarpet\",\"marker\":{\"colorbar\":{\"outlinewidth\":0,\"ticks\":\"\"}}}],\"carpet\":[{\"aaxis\":{\"endlinecolor\":\"#2a3f5f\",\"gridcolor\":\"white\",\"linecolor\":\"white\",\"minorgridcolor\":\"white\",\"startlinecolor\":\"#2a3f5f\"},\"baxis\":{\"endlinecolor\":\"#2a3f5f\",\"gridcolor\":\"white\",\"linecolor\":\"white\",\"minorgridcolor\":\"white\",\"startlinecolor\":\"#2a3f5f\"},\"type\":\"carpet\"}],\"table\":[{\"cells\":{\"fill\":{\"color\":\"#EBF0F8\"},\"line\":{\"color\":\"white\"}},\"header\":{\"fill\":{\"color\":\"#C8D4E3\"},\"line\":{\"color\":\"white\"}},\"type\":\"table\"}],\"barpolar\":[{\"marker\":{\"line\":{\"color\":\"#E5ECF6\",\"width\":0.5},\"pattern\":{\"fillmode\":\"overlay\",\"size\":10,\"solidity\":0.2}},\"type\":\"barpolar\"}],\"pie\":[{\"automargin\":true,\"type\":\"pie\"}]},\"layout\":{\"autotypenumbers\":\"strict\",\"colorway\":[\"#636efa\",\"#EF553B\",\"#00cc96\",\"#ab63fa\",\"#FFA15A\",\"#19d3f3\",\"#FF6692\",\"#B6E880\",\"#FF97FF\",\"#FECB52\"],\"font\":{\"color\":\"#2a3f5f\"},\"hovermode\":\"closest\",\"hoverlabel\":{\"align\":\"left\"},\"paper_bgcolor\":\"white\",\"plot_bgcolor\":\"#E5ECF6\",\"polar\":{\"bgcolor\":\"#E5ECF6\",\"angularaxis\":{\"gridcolor\":\"white\",\"linecolor\":\"white\",\"ticks\":\"\"},\"radialaxis\":{\"gridcolor\":\"white\",\"linecolor\":\"white\",\"ticks\":\"\"}},\"ternary\":{\"bgcolor\":\"#E5ECF6\",\"aaxis\":{\"gridcolor\":\"white\",\"linecolor\":\"white\",\"ticks\":\"\"},\"baxis\":{\"gridcolor\":\"white\",\"linecolor\":\"white\",\"ticks\":\"\"},\"caxis\":{\"gridcolor\":\"white\",\"linecolor\":\"white\",\"ticks\":\"\"}},\"coloraxis\":{\"colorbar\":{\"outlinewidth\":0,\"ticks\":\"\"}},\"colorscale\":{\"sequential\":[[0.0,\"#0d0887\"],[0.1111111111111111,\"#46039f\"],[0.2222222222222222,\"#7201a8\"],[0.3333333333333333,\"#9c179e\"],[0.4444444444444444,\"#bd3786\"],[0.5555555555555556,\"#d8576b\"],[0.6666666666666666,\"#ed7953\"],[0.7777777777777778,\"#fb9f3a\"],[0.8888888888888888,\"#fdca26\"],[1.0,\"#f0f921\"]],\"sequentialminus\":[[0.0,\"#0d0887\"],[0.1111111111111111,\"#46039f\"],[0.2222222222222222,\"#7201a8\"],[0.3333333333333333,\"#9c179e\"],[0.4444444444444444,\"#bd3786\"],[0.5555555555555556,\"#d8576b\"],[0.6666666666666666,\"#ed7953\"],[0.7777777777777778,\"#fb9f3a\"],[0.8888888888888888,\"#fdca26\"],[1.0,\"#f0f921\"]],\"diverging\":[[0,\"#8e0152\"],[0.1,\"#c51b7d\"],[0.2,\"#de77ae\"],[0.3,\"#f1b6da\"],[0.4,\"#fde0ef\"],[0.5,\"#f7f7f7\"],[0.6,\"#e6f5d0\"],[0.7,\"#b8e186\"],[0.8,\"#7fbc41\"],[0.9,\"#4d9221\"],[1,\"#276419\"]]},\"xaxis\":{\"gridcolor\":\"white\",\"linecolor\":\"white\",\"ticks\":\"\",\"title\":{\"standoff\":15},\"zerolinecolor\":\"white\",\"automargin\":true,\"zerolinewidth\":2},\"yaxis\":{\"gridcolor\":\"white\",\"linecolor\":\"white\",\"ticks\":\"\",\"title\":{\"standoff\":15},\"zerolinecolor\":\"white\",\"automargin\":true,\"zerolinewidth\":2},\"scene\":{\"xaxis\":{\"backgroundcolor\":\"#E5ECF6\",\"gridcolor\":\"white\",\"linecolor\":\"white\",\"showbackground\":true,\"ticks\":\"\",\"zerolinecolor\":\"white\",\"gridwidth\":2},\"yaxis\":{\"backgroundcolor\":\"#E5ECF6\",\"gridcolor\":\"white\",\"linecolor\":\"white\",\"showbackground\":true,\"ticks\":\"\",\"zerolinecolor\":\"white\",\"gridwidth\":2},\"zaxis\":{\"backgroundcolor\":\"#E5ECF6\",\"gridcolor\":\"white\",\"linecolor\":\"white\",\"showbackground\":true,\"ticks\":\"\",\"zerolinecolor\":\"white\",\"gridwidth\":2}},\"shapedefaults\":{\"line\":{\"color\":\"#2a3f5f\"}},\"annotationdefaults\":{\"arrowcolor\":\"#2a3f5f\",\"arrowhead\":0,\"arrowwidth\":1},\"geo\":{\"bgcolor\":\"white\",\"landcolor\":\"#E5ECF6\",\"subunitcolor\":\"white\",\"showland\":true,\"showlakes\":true,\"lakecolor\":\"white\"},\"title\":{\"x\":0.05},\"mapbox\":{\"style\":\"light\"}}},\"xaxis\":{\"anchor\":\"y\",\"domain\":[0.0,1.0],\"title\":{\"text\":\"x\"}},\"yaxis\":{\"anchor\":\"x\",\"domain\":[0.0,1.0],\"title\":{\"text\":\"y\"}},\"legend\":{\"tracegroupgap\":0},\"title\":{\"text\":\"Elbow Method for Optimal K\"}},                        {\"responsive\": true}                    ).then(function(){\n",
              "                            \n",
              "var gd = document.getElementById('adcc5cde-f52c-40fa-bf0e-ca82b883f093');\n",
              "var x = new MutationObserver(function (mutations, observer) {{\n",
              "        var display = window.getComputedStyle(gd).display;\n",
              "        if (!display || display === 'none') {{\n",
              "            console.log([gd, 'removed!']);\n",
              "            Plotly.purge(gd);\n",
              "            observer.disconnect();\n",
              "        }}\n",
              "}});\n",
              "\n",
              "// Listen for the removal of the full notebook cells\n",
              "var notebookContainer = gd.closest('#notebook-container');\n",
              "if (notebookContainer) {{\n",
              "    x.observe(notebookContainer, {childList: true});\n",
              "}}\n",
              "\n",
              "// Listen for the clearing of the current output cell\n",
              "var outputEl = gd.closest('.output');\n",
              "if (outputEl) {{\n",
              "    x.observe(outputEl, {childList: true});\n",
              "}}\n",
              "\n",
              "                        })                };                            </script>        </div>\n",
              "</body>\n",
              "</html>"
            ]
          },
          "metadata": {}
        }
      ],
      "source": [
        "px.line(x=range(15, 25), y= wcss, markers=True,title=\"Elbow Method for Optimal K\")"
      ]
    },
    {
      "cell_type": "markdown",
      "source": [
        "From Elbow Method the Optimal K is (17,20)"
      ],
      "metadata": {
        "id": "p2Os4aWb8Fxg"
      }
    },
    {
      "cell_type": "code",
      "execution_count": 32,
      "metadata": {
        "id": "_ftOc4glpp-s",
        "colab": {
          "base_uri": "https://localhost:8080/",
          "height": 542
        },
        "outputId": "c069e68f-bd25-43d4-bfe6-4705bee00a17"
      },
      "outputs": [
        {
          "output_type": "display_data",
          "data": {
            "text/html": [
              "<html>\n",
              "<head><meta charset=\"utf-8\" /></head>\n",
              "<body>\n",
              "    <div>            <script src=\"https://cdnjs.cloudflare.com/ajax/libs/mathjax/2.7.5/MathJax.js?config=TeX-AMS-MML_SVG\"></script><script type=\"text/javascript\">if (window.MathJax && window.MathJax.Hub && window.MathJax.Hub.Config) {window.MathJax.Hub.Config({SVG: {font: \"STIX-Web\"}});}</script>                <script type=\"text/javascript\">window.PlotlyConfig = {MathJaxConfig: 'local'};</script>\n",
              "        <script charset=\"utf-8\" src=\"https://cdn.plot.ly/plotly-2.24.1.min.js\"></script>                <div id=\"512164e0-04fe-4817-944f-9060d5f87f57\" class=\"plotly-graph-div\" style=\"height:525px; width:100%;\"></div>            <script type=\"text/javascript\">                                    window.PLOTLYENV=window.PLOTLYENV || {};                                    if (document.getElementById(\"512164e0-04fe-4817-944f-9060d5f87f57\")) {                    Plotly.newPlot(                        \"512164e0-04fe-4817-944f-9060d5f87f57\",                        [{\"hovertemplate\":\"x=%{x}\\u003cbr\\u003ey=%{y}\\u003cextra\\u003e\\u003c\\u002fextra\\u003e\",\"legendgroup\":\"\",\"line\":{\"color\":\"#636efa\",\"dash\":\"solid\"},\"marker\":{\"symbol\":\"circle\"},\"mode\":\"markers+lines\",\"name\":\"\",\"orientation\":\"v\",\"showlegend\":false,\"x\":[15,16,17,18,19,20,21,22,23,24],\"xaxis\":\"x\",\"y\":[0.8560605742463758,0.5371225235944985,0.31890022472572,0.8771542925745291,0.6269562308139384,0.36768702824704347,0.8103477648342806,0.5286592202768704,0.49427174275251506,0.4504416190405107],\"yaxis\":\"y\",\"type\":\"scatter\"}],                        {\"template\":{\"data\":{\"histogram2dcontour\":[{\"type\":\"histogram2dcontour\",\"colorbar\":{\"outlinewidth\":0,\"ticks\":\"\"},\"colorscale\":[[0.0,\"#0d0887\"],[0.1111111111111111,\"#46039f\"],[0.2222222222222222,\"#7201a8\"],[0.3333333333333333,\"#9c179e\"],[0.4444444444444444,\"#bd3786\"],[0.5555555555555556,\"#d8576b\"],[0.6666666666666666,\"#ed7953\"],[0.7777777777777778,\"#fb9f3a\"],[0.8888888888888888,\"#fdca26\"],[1.0,\"#f0f921\"]]}],\"choropleth\":[{\"type\":\"choropleth\",\"colorbar\":{\"outlinewidth\":0,\"ticks\":\"\"}}],\"histogram2d\":[{\"type\":\"histogram2d\",\"colorbar\":{\"outlinewidth\":0,\"ticks\":\"\"},\"colorscale\":[[0.0,\"#0d0887\"],[0.1111111111111111,\"#46039f\"],[0.2222222222222222,\"#7201a8\"],[0.3333333333333333,\"#9c179e\"],[0.4444444444444444,\"#bd3786\"],[0.5555555555555556,\"#d8576b\"],[0.6666666666666666,\"#ed7953\"],[0.7777777777777778,\"#fb9f3a\"],[0.8888888888888888,\"#fdca26\"],[1.0,\"#f0f921\"]]}],\"heatmap\":[{\"type\":\"heatmap\",\"colorbar\":{\"outlinewidth\":0,\"ticks\":\"\"},\"colorscale\":[[0.0,\"#0d0887\"],[0.1111111111111111,\"#46039f\"],[0.2222222222222222,\"#7201a8\"],[0.3333333333333333,\"#9c179e\"],[0.4444444444444444,\"#bd3786\"],[0.5555555555555556,\"#d8576b\"],[0.6666666666666666,\"#ed7953\"],[0.7777777777777778,\"#fb9f3a\"],[0.8888888888888888,\"#fdca26\"],[1.0,\"#f0f921\"]]}],\"heatmapgl\":[{\"type\":\"heatmapgl\",\"colorbar\":{\"outlinewidth\":0,\"ticks\":\"\"},\"colorscale\":[[0.0,\"#0d0887\"],[0.1111111111111111,\"#46039f\"],[0.2222222222222222,\"#7201a8\"],[0.3333333333333333,\"#9c179e\"],[0.4444444444444444,\"#bd3786\"],[0.5555555555555556,\"#d8576b\"],[0.6666666666666666,\"#ed7953\"],[0.7777777777777778,\"#fb9f3a\"],[0.8888888888888888,\"#fdca26\"],[1.0,\"#f0f921\"]]}],\"contourcarpet\":[{\"type\":\"contourcarpet\",\"colorbar\":{\"outlinewidth\":0,\"ticks\":\"\"}}],\"contour\":[{\"type\":\"contour\",\"colorbar\":{\"outlinewidth\":0,\"ticks\":\"\"},\"colorscale\":[[0.0,\"#0d0887\"],[0.1111111111111111,\"#46039f\"],[0.2222222222222222,\"#7201a8\"],[0.3333333333333333,\"#9c179e\"],[0.4444444444444444,\"#bd3786\"],[0.5555555555555556,\"#d8576b\"],[0.6666666666666666,\"#ed7953\"],[0.7777777777777778,\"#fb9f3a\"],[0.8888888888888888,\"#fdca26\"],[1.0,\"#f0f921\"]]}],\"surface\":[{\"type\":\"surface\",\"colorbar\":{\"outlinewidth\":0,\"ticks\":\"\"},\"colorscale\":[[0.0,\"#0d0887\"],[0.1111111111111111,\"#46039f\"],[0.2222222222222222,\"#7201a8\"],[0.3333333333333333,\"#9c179e\"],[0.4444444444444444,\"#bd3786\"],[0.5555555555555556,\"#d8576b\"],[0.6666666666666666,\"#ed7953\"],[0.7777777777777778,\"#fb9f3a\"],[0.8888888888888888,\"#fdca26\"],[1.0,\"#f0f921\"]]}],\"mesh3d\":[{\"type\":\"mesh3d\",\"colorbar\":{\"outlinewidth\":0,\"ticks\":\"\"}}],\"scatter\":[{\"fillpattern\":{\"fillmode\":\"overlay\",\"size\":10,\"solidity\":0.2},\"type\":\"scatter\"}],\"parcoords\":[{\"type\":\"parcoords\",\"line\":{\"colorbar\":{\"outlinewidth\":0,\"ticks\":\"\"}}}],\"scatterpolargl\":[{\"type\":\"scatterpolargl\",\"marker\":{\"colorbar\":{\"outlinewidth\":0,\"ticks\":\"\"}}}],\"bar\":[{\"error_x\":{\"color\":\"#2a3f5f\"},\"error_y\":{\"color\":\"#2a3f5f\"},\"marker\":{\"line\":{\"color\":\"#E5ECF6\",\"width\":0.5},\"pattern\":{\"fillmode\":\"overlay\",\"size\":10,\"solidity\":0.2}},\"type\":\"bar\"}],\"scattergeo\":[{\"type\":\"scattergeo\",\"marker\":{\"colorbar\":{\"outlinewidth\":0,\"ticks\":\"\"}}}],\"scatterpolar\":[{\"type\":\"scatterpolar\",\"marker\":{\"colorbar\":{\"outlinewidth\":0,\"ticks\":\"\"}}}],\"histogram\":[{\"marker\":{\"pattern\":{\"fillmode\":\"overlay\",\"size\":10,\"solidity\":0.2}},\"type\":\"histogram\"}],\"scattergl\":[{\"type\":\"scattergl\",\"marker\":{\"colorbar\":{\"outlinewidth\":0,\"ticks\":\"\"}}}],\"scatter3d\":[{\"type\":\"scatter3d\",\"line\":{\"colorbar\":{\"outlinewidth\":0,\"ticks\":\"\"}},\"marker\":{\"colorbar\":{\"outlinewidth\":0,\"ticks\":\"\"}}}],\"scattermapbox\":[{\"type\":\"scattermapbox\",\"marker\":{\"colorbar\":{\"outlinewidth\":0,\"ticks\":\"\"}}}],\"scatterternary\":[{\"type\":\"scatterternary\",\"marker\":{\"colorbar\":{\"outlinewidth\":0,\"ticks\":\"\"}}}],\"scattercarpet\":[{\"type\":\"scattercarpet\",\"marker\":{\"colorbar\":{\"outlinewidth\":0,\"ticks\":\"\"}}}],\"carpet\":[{\"aaxis\":{\"endlinecolor\":\"#2a3f5f\",\"gridcolor\":\"white\",\"linecolor\":\"white\",\"minorgridcolor\":\"white\",\"startlinecolor\":\"#2a3f5f\"},\"baxis\":{\"endlinecolor\":\"#2a3f5f\",\"gridcolor\":\"white\",\"linecolor\":\"white\",\"minorgridcolor\":\"white\",\"startlinecolor\":\"#2a3f5f\"},\"type\":\"carpet\"}],\"table\":[{\"cells\":{\"fill\":{\"color\":\"#EBF0F8\"},\"line\":{\"color\":\"white\"}},\"header\":{\"fill\":{\"color\":\"#C8D4E3\"},\"line\":{\"color\":\"white\"}},\"type\":\"table\"}],\"barpolar\":[{\"marker\":{\"line\":{\"color\":\"#E5ECF6\",\"width\":0.5},\"pattern\":{\"fillmode\":\"overlay\",\"size\":10,\"solidity\":0.2}},\"type\":\"barpolar\"}],\"pie\":[{\"automargin\":true,\"type\":\"pie\"}]},\"layout\":{\"autotypenumbers\":\"strict\",\"colorway\":[\"#636efa\",\"#EF553B\",\"#00cc96\",\"#ab63fa\",\"#FFA15A\",\"#19d3f3\",\"#FF6692\",\"#B6E880\",\"#FF97FF\",\"#FECB52\"],\"font\":{\"color\":\"#2a3f5f\"},\"hovermode\":\"closest\",\"hoverlabel\":{\"align\":\"left\"},\"paper_bgcolor\":\"white\",\"plot_bgcolor\":\"#E5ECF6\",\"polar\":{\"bgcolor\":\"#E5ECF6\",\"angularaxis\":{\"gridcolor\":\"white\",\"linecolor\":\"white\",\"ticks\":\"\"},\"radialaxis\":{\"gridcolor\":\"white\",\"linecolor\":\"white\",\"ticks\":\"\"}},\"ternary\":{\"bgcolor\":\"#E5ECF6\",\"aaxis\":{\"gridcolor\":\"white\",\"linecolor\":\"white\",\"ticks\":\"\"},\"baxis\":{\"gridcolor\":\"white\",\"linecolor\":\"white\",\"ticks\":\"\"},\"caxis\":{\"gridcolor\":\"white\",\"linecolor\":\"white\",\"ticks\":\"\"}},\"coloraxis\":{\"colorbar\":{\"outlinewidth\":0,\"ticks\":\"\"}},\"colorscale\":{\"sequential\":[[0.0,\"#0d0887\"],[0.1111111111111111,\"#46039f\"],[0.2222222222222222,\"#7201a8\"],[0.3333333333333333,\"#9c179e\"],[0.4444444444444444,\"#bd3786\"],[0.5555555555555556,\"#d8576b\"],[0.6666666666666666,\"#ed7953\"],[0.7777777777777778,\"#fb9f3a\"],[0.8888888888888888,\"#fdca26\"],[1.0,\"#f0f921\"]],\"sequentialminus\":[[0.0,\"#0d0887\"],[0.1111111111111111,\"#46039f\"],[0.2222222222222222,\"#7201a8\"],[0.3333333333333333,\"#9c179e\"],[0.4444444444444444,\"#bd3786\"],[0.5555555555555556,\"#d8576b\"],[0.6666666666666666,\"#ed7953\"],[0.7777777777777778,\"#fb9f3a\"],[0.8888888888888888,\"#fdca26\"],[1.0,\"#f0f921\"]],\"diverging\":[[0,\"#8e0152\"],[0.1,\"#c51b7d\"],[0.2,\"#de77ae\"],[0.3,\"#f1b6da\"],[0.4,\"#fde0ef\"],[0.5,\"#f7f7f7\"],[0.6,\"#e6f5d0\"],[0.7,\"#b8e186\"],[0.8,\"#7fbc41\"],[0.9,\"#4d9221\"],[1,\"#276419\"]]},\"xaxis\":{\"gridcolor\":\"white\",\"linecolor\":\"white\",\"ticks\":\"\",\"title\":{\"standoff\":15},\"zerolinecolor\":\"white\",\"automargin\":true,\"zerolinewidth\":2},\"yaxis\":{\"gridcolor\":\"white\",\"linecolor\":\"white\",\"ticks\":\"\",\"title\":{\"standoff\":15},\"zerolinecolor\":\"white\",\"automargin\":true,\"zerolinewidth\":2},\"scene\":{\"xaxis\":{\"backgroundcolor\":\"#E5ECF6\",\"gridcolor\":\"white\",\"linecolor\":\"white\",\"showbackground\":true,\"ticks\":\"\",\"zerolinecolor\":\"white\",\"gridwidth\":2},\"yaxis\":{\"backgroundcolor\":\"#E5ECF6\",\"gridcolor\":\"white\",\"linecolor\":\"white\",\"showbackground\":true,\"ticks\":\"\",\"zerolinecolor\":\"white\",\"gridwidth\":2},\"zaxis\":{\"backgroundcolor\":\"#E5ECF6\",\"gridcolor\":\"white\",\"linecolor\":\"white\",\"showbackground\":true,\"ticks\":\"\",\"zerolinecolor\":\"white\",\"gridwidth\":2}},\"shapedefaults\":{\"line\":{\"color\":\"#2a3f5f\"}},\"annotationdefaults\":{\"arrowcolor\":\"#2a3f5f\",\"arrowhead\":0,\"arrowwidth\":1},\"geo\":{\"bgcolor\":\"white\",\"landcolor\":\"#E5ECF6\",\"subunitcolor\":\"white\",\"showland\":true,\"showlakes\":true,\"lakecolor\":\"white\"},\"title\":{\"x\":0.05},\"mapbox\":{\"style\":\"light\"}}},\"xaxis\":{\"anchor\":\"y\",\"domain\":[0.0,1.0],\"title\":{\"text\":\"x\"}},\"yaxis\":{\"anchor\":\"x\",\"domain\":[0.0,1.0],\"title\":{\"text\":\"y\"}},\"legend\":{\"tracegroupgap\":0},\"title\":{\"text\":\"Silhouette analysis for Optimal K\"}},                        {\"responsive\": true}                    ).then(function(){\n",
              "                            \n",
              "var gd = document.getElementById('512164e0-04fe-4817-944f-9060d5f87f57');\n",
              "var x = new MutationObserver(function (mutations, observer) {{\n",
              "        var display = window.getComputedStyle(gd).display;\n",
              "        if (!display || display === 'none') {{\n",
              "            console.log([gd, 'removed!']);\n",
              "            Plotly.purge(gd);\n",
              "            observer.disconnect();\n",
              "        }}\n",
              "}});\n",
              "\n",
              "// Listen for the removal of the full notebook cells\n",
              "var notebookContainer = gd.closest('#notebook-container');\n",
              "if (notebookContainer) {{\n",
              "    x.observe(notebookContainer, {childList: true});\n",
              "}}\n",
              "\n",
              "// Listen for the clearing of the current output cell\n",
              "var outputEl = gd.closest('.output');\n",
              "if (outputEl) {{\n",
              "    x.observe(outputEl, {childList: true});\n",
              "}}\n",
              "\n",
              "                        })                };                            </script>        </div>\n",
              "</body>\n",
              "</html>"
            ]
          },
          "metadata": {}
        }
      ],
      "source": [
        "px.line(x=range(15,25), y= silhouette_avg, markers=True,title=\"Silhouette analysis for Optimal K\")"
      ]
    },
    {
      "cell_type": "markdown",
      "source": [
        "From Silhouette analysis the Optimal K is 18"
      ],
      "metadata": {
        "id": "o8wbl-MJ7rlK"
      }
    },
    {
      "cell_type": "code",
      "source": [],
      "metadata": {
        "id": "17HO3R8H6vFU"
      },
      "execution_count": null,
      "outputs": []
    }
  ],
  "metadata": {
    "colab": {
      "provenance": [],
      "authorship_tag": "ABX9TyNJdqblKXMi5QE/TGf81+hB",
      "include_colab_link": true
    },
    "kernelspec": {
      "display_name": "Python 3",
      "name": "python3"
    },
    "language_info": {
      "name": "python"
    }
  },
  "nbformat": 4,
  "nbformat_minor": 0
}