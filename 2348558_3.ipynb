{
  "nbformat": 4,
  "nbformat_minor": 0,
  "metadata": {
    "colab": {
      "provenance": [],
      "mount_file_id": "1mx3KPwSQ8vaOUo4u93DcPCO7LNiWQHjV",
      "authorship_tag": "ABX9TyNrjge8NS5OiPLNmaUfxCQZ",
      "include_colab_link": true
    },
    "kernelspec": {
      "name": "python3",
      "display_name": "Python 3"
    },
    "language_info": {
      "name": "python"
    }
  },
  "cells": [
    {
      "cell_type": "markdown",
      "metadata": {
        "id": "view-in-github",
        "colab_type": "text"
      },
      "source": [
        "<a href=\"https://colab.research.google.com/github/ShreyJais/ADA/blob/main/2348558_3.ipynb\" target=\"_parent\"><img src=\"https://colab.research.google.com/assets/colab-badge.svg\" alt=\"Open In Colab\"/></a>"
      ]
    },
    {
      "cell_type": "code",
      "execution_count": 1,
      "metadata": {
        "colab": {
          "base_uri": "https://localhost:8080/"
        },
        "id": "sgoXZO1GR-bt",
        "outputId": "b56b310c-5567-4b38-95e6-7d3356c09c3a"
      },
      "outputs": [
        {
          "output_type": "stream",
          "name": "stdout",
          "text": [
            "Case Title: State of Maharashtra v. Rajesh Kumar\n",
            "\n",
            "Case Number: 2021/CR/5678\n",
            "\n",
            "Court: High Court of Bombay\n",
            "\n",
            "Date: March 10, 2023\n",
            "\n",
            "Judge: Honorable Justice R.K. Desai\n",
            "\n",
            "Parties:\n",
            "\n",
            "Plaintiff: The State of Maharashtra\n",
            "Defendant: Rajesh Kumar\n",
            "Charges:\n",
            "\n",
            "Section 302 - Indian Penal Code (IPC) - Murder\n",
            "Section 397 - IPC - Robbery, or dacoity, with attempt to cause death or grievous hurt\n",
            "Section 411 - IPC - Dishonestly receiving stolen property\n",
            "Summary of Facts:\n",
            "On the night of October 15, 2021, the defendant, Rajesh Kumar, along with two accomplices, forcibly entered the residence of the victim, Mr. Shyam Lal, located at 45, Andheri East, Mumbai. The intruders overpowered the victim, binding him and his wife, Mrs. Kamla Lal, with ropes. They then proceeded to loot the house, taking cash, jewelry, and other valuable items.\n",
            "\n",
            "During the course of the robbery, an altercation occurred between the defendant and Mr. Shyam Lal. The defendant, in a fit of rage, struck the victim multiple times with a blunt object, resulting in Mr. Lal's death. The assailants then fled the scene with the stolen property.\n",
            "\n",
            "The incident was reported by Mrs. Kamla Lal, who managed to untie herself and call the police. The police arrived promptly and initiated an investigation. Based on eyewitness accounts and forensic evidence, Rajesh Kumar was apprehended within a week and found in possession of several items identified as stolen from the Lal residence.\n",
            "\n",
            "Evidence Presented:\n",
            "\n",
            "Testimony of Mrs. Kamla Lal: The victim’s wife provided a detailed account of the events, identifying Rajesh Kumar as one of the assailants.\n",
            "Forensic Evidence: Bloodstains matching the victim’s blood type were found on the clothes of the defendant.\n",
            "CCTV Footage: Surveillance cameras from a neighboring property captured the entry and exit of the accused.\n",
            "Recovered Stolen Items: Jewelry and cash stolen from the Lal residence were recovered from the defendant’s hideout.\n",
            "Defense Argument:\n",
            "The defense argued that Rajesh Kumar was not present at the crime scene and was wrongfully accused. They suggested that the evidence was circumstantial and that the defendant was a victim of mistaken identity. The defense also highlighted the lack of direct eyewitnesses other than the victim's wife.\n",
            "\n",
            "Prosecution Argument:\n",
            "The prosecution relied on the strong testimonial evidence of Mrs. Kamla Lal, supported by forensic evidence and CCTV footage. They argued that the recovered stolen items found in the possession of the defendant conclusively linked him to the crime. The prosecution emphasized the brutality of the murder and the overwhelming evidence of the defendant's guilt.\n",
            "\n",
            "Verdict:\n",
            "The court found Rajesh Kumar guilty on all charges, including murder, robbery, and possession of stolen property.\n",
            "\n",
            "Sentencing:\n",
            "Rajesh Kumar was sentenced to life imprisonment for the murder charge under Section 302 of the IPC. Additionally, he received ten years of rigorous imprisonment for the robbery charge under Section 397 of the IPC and five years for receiving stolen property under Section 411 of the IPC, with sentences to run concurrently.\n"
          ]
        }
      ],
      "source": [
        "with open('/content/drive/MyDrive/ADA/CrimeCase.txt', 'r') as f:\n",
        "    text = f.read()\n",
        "print(text)"
      ]
    },
    {
      "cell_type": "code",
      "source": [
        "!pip install sumy"
      ],
      "metadata": {
        "colab": {
          "base_uri": "https://localhost:8080/"
        },
        "id": "2k8PlX6ISDuO",
        "outputId": "81414a15-cfdb-4a46-eab2-bbc077f940e4"
      },
      "execution_count": 2,
      "outputs": [
        {
          "output_type": "stream",
          "name": "stdout",
          "text": [
            "Collecting sumy\n",
            "  Downloading sumy-0.11.0-py2.py3-none-any.whl (97 kB)\n",
            "\u001b[?25l     \u001b[90m━━━━━━━━━━━━━━━━━━━━━━━━━━━━━━━━━━━━━━━━\u001b[0m \u001b[32m0.0/97.3 kB\u001b[0m \u001b[31m?\u001b[0m eta \u001b[36m-:--:--\u001b[0m\r\u001b[2K     \u001b[90m━━━━━━━━━━━━━━━━━━━━━━━━━━━━━━━━━━━━━━━━\u001b[0m \u001b[32m97.3/97.3 kB\u001b[0m \u001b[31m2.8 MB/s\u001b[0m eta \u001b[36m0:00:00\u001b[0m\n",
            "\u001b[?25hCollecting docopt<0.7,>=0.6.1 (from sumy)\n",
            "  Downloading docopt-0.6.2.tar.gz (25 kB)\n",
            "  Preparing metadata (setup.py) ... \u001b[?25l\u001b[?25hdone\n",
            "Collecting breadability>=0.1.20 (from sumy)\n",
            "  Downloading breadability-0.1.20.tar.gz (32 kB)\n",
            "  Preparing metadata (setup.py) ... \u001b[?25l\u001b[?25hdone\n",
            "Requirement already satisfied: requests>=2.7.0 in /usr/local/lib/python3.10/dist-packages (from sumy) (2.31.0)\n",
            "Collecting pycountry>=18.2.23 (from sumy)\n",
            "  Downloading pycountry-24.6.1-py3-none-any.whl (6.3 MB)\n",
            "\u001b[2K     \u001b[90m━━━━━━━━━━━━━━━━━━━━━━━━━━━━━━━━━━━━━━━━\u001b[0m \u001b[32m6.3/6.3 MB\u001b[0m \u001b[31m20.1 MB/s\u001b[0m eta \u001b[36m0:00:00\u001b[0m\n",
            "\u001b[?25hRequirement already satisfied: nltk>=3.0.2 in /usr/local/lib/python3.10/dist-packages (from sumy) (3.8.1)\n",
            "Requirement already satisfied: chardet in /usr/local/lib/python3.10/dist-packages (from breadability>=0.1.20->sumy) (5.2.0)\n",
            "Requirement already satisfied: lxml>=2.0 in /usr/local/lib/python3.10/dist-packages (from breadability>=0.1.20->sumy) (4.9.4)\n",
            "Requirement already satisfied: click in /usr/local/lib/python3.10/dist-packages (from nltk>=3.0.2->sumy) (8.1.7)\n",
            "Requirement already satisfied: joblib in /usr/local/lib/python3.10/dist-packages (from nltk>=3.0.2->sumy) (1.4.2)\n",
            "Requirement already satisfied: regex>=2021.8.3 in /usr/local/lib/python3.10/dist-packages (from nltk>=3.0.2->sumy) (2024.5.15)\n",
            "Requirement already satisfied: tqdm in /usr/local/lib/python3.10/dist-packages (from nltk>=3.0.2->sumy) (4.66.4)\n",
            "Requirement already satisfied: charset-normalizer<4,>=2 in /usr/local/lib/python3.10/dist-packages (from requests>=2.7.0->sumy) (3.3.2)\n",
            "Requirement already satisfied: idna<4,>=2.5 in /usr/local/lib/python3.10/dist-packages (from requests>=2.7.0->sumy) (3.7)\n",
            "Requirement already satisfied: urllib3<3,>=1.21.1 in /usr/local/lib/python3.10/dist-packages (from requests>=2.7.0->sumy) (2.0.7)\n",
            "Requirement already satisfied: certifi>=2017.4.17 in /usr/local/lib/python3.10/dist-packages (from requests>=2.7.0->sumy) (2024.6.2)\n",
            "Building wheels for collected packages: breadability, docopt\n",
            "  Building wheel for breadability (setup.py) ... \u001b[?25l\u001b[?25hdone\n",
            "  Created wheel for breadability: filename=breadability-0.1.20-py2.py3-none-any.whl size=21693 sha256=5342f008bfe267b79be7e32ad564d7b510bb62cfd4920a54a19f36eb15da289a\n",
            "  Stored in directory: /root/.cache/pip/wheels/64/22/90/b84fcc30e16598db20a0d41340616dbf9b1e82bbcc627b0b33\n",
            "  Building wheel for docopt (setup.py) ... \u001b[?25l\u001b[?25hdone\n",
            "  Created wheel for docopt: filename=docopt-0.6.2-py2.py3-none-any.whl size=13706 sha256=af45fef82d444a5f412e6598e9729cd8933270e1f8e200f4c3eb7a21f58d0db3\n",
            "  Stored in directory: /root/.cache/pip/wheels/fc/ab/d4/5da2067ac95b36618c629a5f93f809425700506f72c9732fac\n",
            "Successfully built breadability docopt\n",
            "Installing collected packages: docopt, pycountry, breadability, sumy\n",
            "Successfully installed breadability-0.1.20 docopt-0.6.2 pycountry-24.6.1 sumy-0.11.0\n"
          ]
        }
      ]
    },
    {
      "cell_type": "code",
      "source": [
        "from sumy.parsers.plaintext import PlaintextParser\n",
        "from sumy.nlp.tokenizers import Tokenizer\n",
        "from sumy.summarizers.lex_rank import LexRankSummarizer\n",
        "from sumy.summarizers.text_rank import TextRankSummarizer\n",
        "from sumy.summarizers.lsa import LsaSummarizer"
      ],
      "metadata": {
        "id": "S12fco7tTCyC"
      },
      "execution_count": 3,
      "outputs": []
    },
    {
      "cell_type": "code",
      "source": [
        "import nltk\n",
        "nltk.download('punkt')"
      ],
      "metadata": {
        "colab": {
          "base_uri": "https://localhost:8080/"
        },
        "id": "S76EBEEUTQb2",
        "outputId": "38957aca-9349-4a7e-eacd-6b1f19bed675"
      },
      "execution_count": 4,
      "outputs": [
        {
          "output_type": "stream",
          "name": "stderr",
          "text": [
            "[nltk_data] Downloading package punkt to /root/nltk_data...\n",
            "[nltk_data]   Unzipping tokenizers/punkt.zip.\n"
          ]
        },
        {
          "output_type": "execute_result",
          "data": {
            "text/plain": [
              "True"
            ]
          },
          "metadata": {},
          "execution_count": 4
        }
      ]
    },
    {
      "cell_type": "code",
      "source": [
        "#parser and tokenizer\n",
        "parser = PlaintextParser.from_string(text, Tokenizer(\"english\"))\n",
        "summaryLength = 10  #summarize to n sentances"
      ],
      "metadata": {
        "id": "4FvWSpUwUnAK"
      },
      "execution_count": 5,
      "outputs": []
    },
    {
      "cell_type": "code",
      "source": [
        "#TextRankSummarizer\n",
        "TRsummarizer = TextRankSummarizer()\n",
        "TRsummary = TRsummarizer(parser.document, summaryLength)\n",
        "for sentence in TRsummary:\n",
        "    print(sentence)"
      ],
      "metadata": {
        "colab": {
          "base_uri": "https://localhost:8080/"
        },
        "id": "6xBiDI06TTTn",
        "outputId": "7b84e01b-71f4-422c-da1f-ed7bf9b29471"
      },
      "execution_count": 6,
      "outputs": [
        {
          "output_type": "stream",
          "name": "stdout",
          "text": [
            "Section 302 - Indian Penal Code (IPC) - Murder Section 397 - IPC - Robbery, or dacoity, with attempt to cause death or grievous hurt Section 411 - IPC - Dishonestly receiving stolen property Summary of Facts: On the night of October 15, 2021, the defendant, Rajesh Kumar, along with two accomplices, forcibly entered the residence of the victim, Mr. Shyam Lal, located at 45, Andheri East, Mumbai.\n",
            "During the course of the robbery, an altercation occurred between the defendant and Mr. Shyam Lal.\n",
            "The assailants then fled the scene with the stolen property.\n",
            "Testimony of Mrs. Kamla Lal: The victim’s wife provided a detailed account of the events, identifying Rajesh Kumar as one of the assailants.\n",
            "Forensic Evidence: Bloodstains matching the victim’s blood type were found on the clothes of the defendant.\n",
            "They suggested that the evidence was circumstantial and that the defendant was a victim of mistaken identity.\n",
            "The defense also highlighted the lack of direct eyewitnesses other than the victim's wife.\n",
            "They argued that the recovered stolen items found in the possession of the defendant conclusively linked him to the crime.\n",
            "The prosecution emphasized the brutality of the murder and the overwhelming evidence of the defendant's guilt.\n",
            "Additionally, he received ten years of rigorous imprisonment for the robbery charge under Section 397 of the IPC and five years for receiving stolen property under Section 411 of the IPC, with sentences to run concurrently.\n"
          ]
        }
      ]
    },
    {
      "cell_type": "code",
      "source": [
        "#LexRankSummarizer\n",
        "LRsummarizer = LexRankSummarizer()\n",
        "LRsummary = LRsummarizer(parser.document, summaryLength)\n",
        "LR_text = \"\"\n",
        "for sentence in LRsummary:\n",
        "    LR_text += \"\\n\" + sentence._text\n",
        "print(LR_text)"
      ],
      "metadata": {
        "colab": {
          "base_uri": "https://localhost:8080/"
        },
        "id": "jJ0JWTzkUYaR",
        "outputId": "200ffaba-068c-49d6-8974-7236fd70761f"
      },
      "execution_count": 7,
      "outputs": [
        {
          "output_type": "stream",
          "name": "stdout",
          "text": [
            "\n",
            "Case Title: State of Maharashtra v. Rajesh Kumar\n",
            "Section 302 - Indian Penal Code (IPC) - Murder Section 397 - IPC - Robbery, or dacoity, with attempt to cause death or grievous hurt Section 411 - IPC - Dishonestly receiving stolen property Summary of Facts: On the night of October 15, 2021, the defendant, Rajesh Kumar, along with two accomplices, forcibly entered the residence of the victim, Mr. Shyam Lal, located at 45, Andheri East, Mumbai.\n",
            "The assailants then fled the scene with the stolen property.\n",
            "The police arrived promptly and initiated an investigation.\n",
            "Based on eyewitness accounts and forensic evidence, Rajesh Kumar was apprehended within a week and found in possession of several items identified as stolen from the Lal residence.\n",
            "Recovered Stolen Items: Jewelry and cash stolen from the Lal residence were recovered from the defendant’s hideout.\n",
            "Defense Argument: The defense argued that Rajesh Kumar was not present at the crime scene and was wrongfully accused.\n",
            "Prosecution Argument: The prosecution relied on the strong testimonial evidence of Mrs. Kamla Lal, supported by forensic evidence and CCTV footage.\n",
            "They argued that the recovered stolen items found in the possession of the defendant conclusively linked him to the crime.\n",
            "Verdict: The court found Rajesh Kumar guilty on all charges, including murder, robbery, and possession of stolen property.\n"
          ]
        }
      ]
    },
    {
      "cell_type": "code",
      "source": [
        "#LsaSummarizer\n",
        "LSAsummarizer = LsaSummarizer()\n",
        "LSAsummary = LSAsummarizer(parser.document, summaryLength)\n",
        "for sentence in LSAsummary:\n",
        "    print(sentence)"
      ],
      "metadata": {
        "colab": {
          "base_uri": "https://localhost:8080/"
        },
        "id": "zKtilnFUUn2y",
        "outputId": "2d299278-5e12-4948-dcd2-95f64d36dc86"
      },
      "execution_count": 8,
      "outputs": [
        {
          "output_type": "stream",
          "name": "stdout",
          "text": [
            "Plaintiff: The State of Maharashtra Defendant: Rajesh Kumar Charges:\n",
            "Section 302 - Indian Penal Code (IPC) - Murder Section 397 - IPC - Robbery, or dacoity, with attempt to cause death or grievous hurt Section 411 - IPC - Dishonestly receiving stolen property Summary of Facts: On the night of October 15, 2021, the defendant, Rajesh Kumar, along with two accomplices, forcibly entered the residence of the victim, Mr. Shyam Lal, located at 45, Andheri East, Mumbai.\n",
            "They then proceeded to loot the house, taking cash, jewelry, and other valuable items.\n",
            "The defendant, in a fit of rage, struck the victim multiple times with a blunt object, resulting in Mr. Lal's death.\n",
            "The police arrived promptly and initiated an investigation.\n",
            "Based on eyewitness accounts and forensic evidence, Rajesh Kumar was apprehended within a week and found in possession of several items identified as stolen from the Lal residence.\n",
            "Defense Argument: The defense argued that Rajesh Kumar was not present at the crime scene and was wrongfully accused.\n",
            "Prosecution Argument: The prosecution relied on the strong testimonial evidence of Mrs. Kamla Lal, supported by forensic evidence and CCTV footage.\n",
            "Verdict: The court found Rajesh Kumar guilty on all charges, including murder, robbery, and possession of stolen property.\n",
            "Additionally, he received ten years of rigorous imprisonment for the robbery charge under Section 397 of the IPC and five years for receiving stolen property under Section 411 of the IPC, with sentences to run concurrently.\n"
          ]
        }
      ]
    },
    {
      "cell_type": "code",
      "source": [
        "TRwordcount = sum(len(sentence._text.split()) for sentence in TRsummary) # Use _text attribute to get the raw text of the Sentence object\n",
        "print(\"TRwordcount:\\t\",TRwordcount)\n",
        "LRwordcount = sum(len(sentence._text.split()) for sentence in LRsummary)\n",
        "print(\"LRwordcount:\\t\",LRwordcount)\n",
        "LSAwordcount = sum(len(sentence._text.split()) for sentence in LSAsummary)\n",
        "print(\"LSAwordcount:\\t\",LSAwordcount)"
      ],
      "metadata": {
        "colab": {
          "base_uri": "https://localhost:8080/"
        },
        "id": "r9GRGeMHUtT7",
        "outputId": "bc3bc968-ce1a-4953-a5e0-faa6c25839ad"
      },
      "execution_count": 9,
      "outputs": [
        {
          "output_type": "stream",
          "name": "stdout",
          "text": [
            "TRwordcount:\t 236\n",
            "LRwordcount:\t 217\n",
            "LSAwordcount:\t 242\n"
          ]
        }
      ]
    },
    {
      "cell_type": "code",
      "source": [
        "!pip install rouge-score"
      ],
      "metadata": {
        "colab": {
          "base_uri": "https://localhost:8080/"
        },
        "id": "M4t0oxtaWgyS",
        "outputId": "7365880a-670d-486f-8f7d-4a87f16f408e"
      },
      "execution_count": 10,
      "outputs": [
        {
          "output_type": "stream",
          "name": "stdout",
          "text": [
            "Collecting rouge-score\n",
            "  Downloading rouge_score-0.1.2.tar.gz (17 kB)\n",
            "  Preparing metadata (setup.py) ... \u001b[?25l\u001b[?25hdone\n",
            "Requirement already satisfied: absl-py in /usr/local/lib/python3.10/dist-packages (from rouge-score) (1.4.0)\n",
            "Requirement already satisfied: nltk in /usr/local/lib/python3.10/dist-packages (from rouge-score) (3.8.1)\n",
            "Requirement already satisfied: numpy in /usr/local/lib/python3.10/dist-packages (from rouge-score) (1.25.2)\n",
            "Requirement already satisfied: six>=1.14.0 in /usr/local/lib/python3.10/dist-packages (from rouge-score) (1.16.0)\n",
            "Requirement already satisfied: click in /usr/local/lib/python3.10/dist-packages (from nltk->rouge-score) (8.1.7)\n",
            "Requirement already satisfied: joblib in /usr/local/lib/python3.10/dist-packages (from nltk->rouge-score) (1.4.2)\n",
            "Requirement already satisfied: regex>=2021.8.3 in /usr/local/lib/python3.10/dist-packages (from nltk->rouge-score) (2024.5.15)\n",
            "Requirement already satisfied: tqdm in /usr/local/lib/python3.10/dist-packages (from nltk->rouge-score) (4.66.4)\n",
            "Building wheels for collected packages: rouge-score\n",
            "  Building wheel for rouge-score (setup.py) ... \u001b[?25l\u001b[?25hdone\n",
            "  Created wheel for rouge-score: filename=rouge_score-0.1.2-py3-none-any.whl size=24933 sha256=9c527dc29d82066fc66b2b00923681603b41b00543e6997b80c593d506c3a3ce\n",
            "  Stored in directory: /root/.cache/pip/wheels/5f/dd/89/461065a73be61a532ff8599a28e9beef17985c9e9c31e541b4\n",
            "Successfully built rouge-score\n",
            "Installing collected packages: rouge-score\n",
            "Successfully installed rouge-score-0.1.2\n"
          ]
        }
      ]
    },
    {
      "cell_type": "code",
      "source": [
        "from rouge_score import rouge_scorer\n",
        "from nltk.translate.bleu_score import sentence_bleu\n",
        "from nltk.translate.meteor_score import meteor_score"
      ],
      "metadata": {
        "id": "gcW8hKmZYMi8"
      },
      "execution_count": 11,
      "outputs": []
    },
    {
      "cell_type": "code",
      "source": [
        "scorer = rouge_scorer.RougeScorer(['rouge1', 'rouge2', 'rougeL'], use_stemmer=True)\n",
        "ROUGHscore = scorer.score(text, LR_text)\n",
        "for key, value in ROUGHscore.items():\n",
        "    print(f\" {key}: Precision: {value.precision}, Recall: {value.recall}, F1: {value.fmeasure}\")"
      ],
      "metadata": {
        "colab": {
          "base_uri": "https://localhost:8080/"
        },
        "id": "dArfZgYUYgIx",
        "outputId": "de8265d0-0b95-4630-f5ea-32d21f74468c"
      },
      "execution_count": 12,
      "outputs": [
        {
          "output_type": "stream",
          "name": "stdout",
          "text": [
            " rouge1: Precision: 1.0, Recall: 0.4344262295081967, F1: 0.6057142857142858\n",
            " rouge2: Precision: 0.981042654028436, Recall: 0.42505133470225875, F1: 0.5931232091690544\n",
            " rougeL: Precision: 1.0, Recall: 0.4344262295081967, F1: 0.6057142857142858\n"
          ]
        }
      ]
    },
    {
      "cell_type": "code",
      "source": [
        "#BLEU and BEARDsummery score"
      ],
      "metadata": {
        "id": "4n8jQ7TCXnfU"
      },
      "execution_count": 13,
      "outputs": []
    },
    {
      "cell_type": "code",
      "source": [],
      "metadata": {
        "id": "l-sekiTxXy8H"
      },
      "execution_count": 13,
      "outputs": []
    },
    {
      "source": [
        "#BLUE score\n",
        "from nltk.translate.bleu_score import sentence_bleu\n",
        "\n",
        "reference = text.split()\n",
        "candidate = LR_text.split()\n",
        "score = sentence_bleu([reference], candidate)\n",
        "print(score)"
      ],
      "cell_type": "code",
      "metadata": {
        "colab": {
          "base_uri": "https://localhost:8080/"
        },
        "id": "o1qyp32h6_iJ",
        "outputId": "707e7543-0a30-44c2-ab0a-d4e2f78eb709"
      },
      "execution_count": 16,
      "outputs": [
        {
          "output_type": "stream",
          "name": "stdout",
          "text": [
            "0.28054242068736324\n"
          ]
        }
      ]
    },
    {
      "cell_type": "code",
      "source": [],
      "metadata": {
        "id": "lY2Fdhdb7ADb"
      },
      "execution_count": null,
      "outputs": []
    }
  ]
}